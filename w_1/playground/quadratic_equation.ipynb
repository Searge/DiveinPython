{
 "cells": [
  {
   "cell_type": "markdown",
   "metadata": {
    "inputHidden": false,
    "outputHidden": false
   },
   "source": [
    "# Квадратне рівняння\n",
    "Алгебраїчне рівняння виду:\n",
    "\n",
    "$ax^2 + bx + c = 0$, де $a\\ne 0$\n",
    "\n",
    "де $x$ є невідомою змінною, а $a$, $b$, і $c$ є сталими відомими числами, такими що $a$ не дорівнює нулю $0$. Якщо $a = 0$, тоді рівняння буде лінійним, а не квадратним рівнянням. \n",
    "\n",
    "Квадратне рівняння можна вирішити за допомогою процедури розкладання на множники, методу доповнення квадрату, за допомогою побудови графіка функції, або з використанням наступної формули, що є загальним розв'язком цього рівняння:\n",
    "\n",
    "$$x_{1,2} = \\frac{-b \\pm \\sqrt{b^2 - 4ac}}{2a}$$"
   ]
  },
  {
   "cell_type": "code",
   "execution_count": 9,
   "metadata": {},
   "outputs": [],
   "source": [
    "def quad_equat(a, b, c):\n",
    "    if a == 0:\n",
    "        print(\"Лінійне рівняння\")\n",
    "    D = (abs(b) ** 2 - (4 * a * c)) ** 0.5\n",
    "    x1 = (abs(b) - D) / (2 * a)\n",
    "    x2 = (abs(b) + D) / (2 * a)\n",
    "    print(int(x1))\n",
    "    print(int(x2))\n",
    "    "
   ]
  },
  {
   "cell_type": "code",
   "execution_count": 10,
   "metadata": {
    "inputHidden": false,
    "outputHidden": false
   },
   "outputs": [
    {
     "name": "stdout",
     "output_type": "stream",
     "text": [
      "-1\n",
      "4\n"
     ]
    }
   ],
   "source": [
    "quad_equat(1, -3, -4)"
   ]
  },
  {
   "cell_type": "code",
   "execution_count": null,
   "metadata": {},
   "outputs": [],
   "source": []
  }
 ],
 "metadata": {
  "kernel_info": {
   "name": "python3"
  },
  "kernelspec": {
   "display_name": "Python 3",
   "language": "python",
   "name": "python3"
  },
  "language_info": {
   "codemirror_mode": {
    "name": "ipython",
    "version": 3
   },
   "file_extension": ".py",
   "mimetype": "text/x-python",
   "name": "python",
   "nbconvert_exporter": "python",
   "pygments_lexer": "ipython3",
   "version": "3.7.1"
  },
  "nteract": {
   "version": "0.12.3"
  }
 },
 "nbformat": 4,
 "nbformat_minor": 4
}

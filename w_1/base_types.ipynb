{
  "cells": [
    {
      "cell_type": "markdown",
      "source": [
        "## Комплексні числа"
      ],
      "metadata": {}
    },
    {
      "cell_type": "code",
      "source": [
        "num = 14 + 1j\n",
        "\nprint(type(num), num, num.real, num.imag, sep='\\n')"
      ],
      "outputs": [
        {
          "output_type": "stream",
          "name": "stdout",
          "text": [
            "<class 'complex'>\n",
            "(14+1j)\n",
            "14.0\n",
            "1.0\n"
          ]
        }
      ],
      "execution_count": 1,
      "metadata": {
        "collapsed": false,
        "outputHidden": false,
        "inputHidden": false
      }
    },
    {
      "cell_type": "markdown",
      "source": [
        "## Побітові оператори"
      ],
      "metadata": {}
    },
    {
      "cell_type": "code",
      "source": [
        "x, y = 4, 3\n",
        "\n",
        "print(\"Побітове або: \", x | y)\n",
        "print(\"Побітове виключне і: \", x ^ y)\n",
        "print(\"Побітове і: \", x & y)\n",
        "print(\"Бітовий зсув вліво: \", x << y)\n",
        "print(\"Бітовий зсув вправо: \", x >> y)\n",
        "print(\"Інверсія бітів: \", ~x)"
      ],
      "outputs": [
        {
          "output_type": "stream",
          "name": "stdout",
          "text": [
            "Побітове або:  7\n",
            "Побітове виключне і:  7\n",
            "Побітове і:  0\n",
            "Бітовий зсув вліво:  32\n",
            "Бітовий зсув вправо:  0\n",
            "Інверсія бітів:  -5\n"
          ]
        }
      ],
      "execution_count": 4,
      "metadata": {
        "collapsed": false,
        "outputHidden": false,
        "inputHidden": false
      }
    },
    {
      "cell_type": "markdown",
      "source": [
        "Задача знайти відстань між двома точками в декартових координатах.\n",
        "Для того, щоб її вирішити нам необхідно знайти гіпотенузу прямокутного трикутника.\n",
        "\n",
        "![](/img/decart.png)\n"
      ],
      "metadata": {}
    },
    {
      "cell_type": "markdown",
      "source": [
        "$\\sqrt{(x_2 - x_1)^2 + (y_2 - y_1)^2}$\n",
        "\n",
        "Для трьох точок:\n",
        "\n$\\sqrt{(x_2 - x_1)^2 + (y_2 - y_1)^2 + (z_2 - z_1)^2}$"
      ],
      "metadata": {}
    },
    {
      "cell_type": "code",
      "source": [
        "x1, y1 = 0, 0\n",
        "x2, y2 = 3, 4\n",
        "\n",
        "distance = ((x2 - x1) ** 2 + (y2 - y1) ** 2) ** 0.5\n",
        "print(distance)"
      ],
      "outputs": [
        {
          "output_type": "stream",
          "name": "stdout",
          "text": [
            "5.0\n"
          ]
        }
      ],
      "execution_count": 5,
      "metadata": {
        "collapsed": false,
        "outputHidden": false,
        "inputHidden": false
      }
    },
    {
      "cell_type": "code",
      "source": [
        "# Immutable type\n",
        "\n",
        "x = y = 0\n",
        "x += 1\n",
        "print(x, y, sep='\\n')"
      ],
      "outputs": [
        {
          "output_type": "stream",
          "name": "stdout",
          "text": [
            "1\n",
            "0\n"
          ]
        }
      ],
      "execution_count": 6,
      "metadata": {
        "collapsed": false,
        "outputHidden": false,
        "inputHidden": false
      }
    },
    {
      "cell_type": "code",
      "source": [
        "# Mutable type\n",
        "\n",
        "x = y = []\n",
        "x.append(1)\n",
        "x.append(2)\n",
        "\nprint(x, y, sep='\\n')"
      ],
      "outputs": [
        {
          "output_type": "stream",
          "name": "stdout",
          "text": [
            "[1, 2]\n",
            "[1, 2]\n"
          ]
        }
      ],
      "execution_count": 7,
      "metadata": {
        "collapsed": false,
        "outputHidden": false,
        "inputHidden": false
      }
    },
    {
      "cell_type": "markdown",
      "source": [
        "### Boolеві вирази — ліниві!"
      ],
      "metadata": {}
    },
    {
      "cell_type": "code",
      "source": [
        "x, y, z = 12, False, 'boom'\n",
        "\n",
        "print(x or y)\n",
        "print(x and z)"
      ],
      "outputs": [
        {
          "output_type": "stream",
          "name": "stdout",
          "text": [
            "12\n",
            "boom\n"
          ]
        }
      ],
      "execution_count": 8,
      "metadata": {
        "collapsed": false,
        "outputHidden": false,
        "inputHidden": false
      }
    },
    {
      "cell_type": "code",
      "source": [
        "z = False\n",
        "print(x and z)"
      ],
      "outputs": [
        {
          "output_type": "stream",
          "name": "stdout",
          "text": [
            "False\n"
          ]
        }
      ],
      "execution_count": 9,
      "metadata": {
        "collapsed": false,
        "outputHidden": false,
        "inputHidden": false
      }
    },
    {
      "cell_type": "code",
      "source": [
        "z = True\n",
        "print(x and z)"
      ],
      "outputs": [
        {
          "output_type": "stream",
          "name": "stdout",
          "text": [
            "True\n"
          ]
        }
      ],
      "execution_count": 10,
      "metadata": {
        "collapsed": false,
        "outputHidden": false,
        "inputHidden": false
      }
    },
    {
      "cell_type": "markdown",
      "source": [
        "### Задача: високосний рік\n",
        "Рік є високосним, якщо кратний $4$ або $400$, але не кратний $100$"
      ],
      "metadata": {}
    },
    {
      "cell_type": "code",
      "source": [
        "year = 2019\n",
        "\n",
        "def is_leap(year):\n",
        "    year = year % 4 == 0 and (year % 100 != 0 or year % 400 == 0)\n",
        "    return year"
      ],
      "outputs": [],
      "execution_count": 11,
      "metadata": {
        "collapsed": false,
        "outputHidden": false,
        "inputHidden": false
      }
    },
    {
      "cell_type": "code",
      "source": [
        "is_leap(year)"
      ],
      "outputs": [
        {
          "output_type": "execute_result",
          "execution_count": 12,
          "data": {
            "text/plain": [
              "False"
            ]
          },
          "metadata": {}
        }
      ],
      "execution_count": 12,
      "metadata": {
        "collapsed": false,
        "outputHidden": false,
        "inputHidden": false
      }
    },
    {
      "cell_type": "code",
      "source": [
        "is_leap(2020)"
      ],
      "outputs": [
        {
          "output_type": "execute_result",
          "execution_count": 13,
          "data": {
            "text/plain": [
              "True"
            ]
          },
          "metadata": {}
        }
      ],
      "execution_count": 13,
      "metadata": {
        "collapsed": false,
        "outputHidden": false,
        "inputHidden": false
      }
    },
    {
      "cell_type": "code",
      "source": [
        "import calendar\n",
        "\nprint(calendar.isleap(1980))"
      ],
      "outputs": [
        {
          "output_type": "stream",
          "name": "stdout",
          "text": [
            "True\n"
          ]
        }
      ],
      "execution_count": 14,
      "metadata": {
        "collapsed": false,
        "outputHidden": false,
        "inputHidden": false
      }
    },
    {
      "cell_type": "code",
      "source": [],
      "outputs": [],
      "execution_count": null,
      "metadata": {
        "collapsed": false,
        "outputHidden": false,
        "inputHidden": false
      }
    }
  ],
  "metadata": {
    "kernel_info": {
      "name": "python3"
    },
    "language_info": {
      "name": "python",
      "version": "3.7.1",
      "mimetype": "text/x-python",
      "codemirror_mode": {
        "name": "ipython",
        "version": 3
      },
      "pygments_lexer": "ipython3",
      "nbconvert_exporter": "python",
      "file_extension": ".py"
    },
    "kernelspec": {
      "name": "python3",
      "language": "python",
      "display_name": "Python 3"
    },
    "nteract": {
      "version": "0.12.3"
    }
  },
  "nbformat": 4,
  "nbformat_minor": 4
}
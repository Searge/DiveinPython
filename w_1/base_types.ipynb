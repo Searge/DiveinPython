{
  "cells": [
    {
      "cell_type": "markdown",
      "source": [
        "## Комплексні числа"
      ],
      "metadata": {}
    },
    {
      "cell_type": "code",
      "source": [
        "num = 14 + 1j\n",
        "\nprint(type(num), num, num.real, num.imag, sep='\\n')"
      ],
      "outputs": [
        {
          "output_type": "stream",
          "name": "stdout",
          "text": [
            "<class 'complex'>\n",
            "(14+1j)\n",
            "14.0\n",
            "1.0\n"
          ]
        }
      ],
      "execution_count": 1,
      "metadata": {
        "collapsed": false,
        "outputHidden": false,
        "inputHidden": false
      }
    },
    {
      "cell_type": "markdown",
      "source": [
        "## Побітові оператори"
      ],
      "metadata": {}
    },
    {
      "cell_type": "code",
      "source": [
        "x, y = 4, 3\n",
        "\n",
        "print(\"Побітове або: \", x | y)\n",
        "print(\"Побітове виключне і: \", x ^ y)\n",
        "print(\"Побітове і: \", x & y)\n",
        "print(\"Бітовий зсув вліво: \", x << y)\n",
        "print(\"Бітовий зсув вправо: \", x >> y)\n",
        "print(\"Інверсія бітів: \", ~x)"
      ],
      "outputs": [
        {
          "output_type": "stream",
          "name": "stdout",
          "text": [
            "Побітове або:  7\n",
            "Побітове виключне і:  7\n",
            "Побітове і:  0\n",
            "Бітовий зсув вліво:  32\n",
            "Бітовий зсув вправо:  0\n",
            "Інверсія бітів:  -5\n"
          ]
        }
      ],
      "execution_count": 4,
      "metadata": {
        "collapsed": false,
        "outputHidden": false,
        "inputHidden": false
      }
    },
    {
      "cell_type": "markdown",
      "source": [
        "Задача знайти відстань між двома точками в декартових координатах.\n",
        "Для того, щоб її вирішити нам необхідно знайти гіпотенузу прямокутного трикутника.\n",
        "\n![](/img/decart.png)"
      ],
      "metadata": {}
    },
    {
      "cell_type": "code",
      "source": [
        "x1, y1 = 0, 0\n",
        "x2, y2 = 3, 4\n",
        "\n",
        "distance = ((x2 - x1) ** 2 + (y2 - y1) ** 2) ** 0.5\n",
        "print(distance)"
      ],
      "outputs": [],
      "execution_count": null,
      "metadata": {
        "collapsed": false,
        "outputHidden": false,
        "inputHidden": false
      }
    }
  ],
  "metadata": {
    "kernel_info": {
      "name": "python3"
    },
    "language_info": {
      "name": "python",
      "version": "3.7.1",
      "mimetype": "text/x-python",
      "codemirror_mode": {
        "name": "ipython",
        "version": 3
      },
      "pygments_lexer": "ipython3",
      "nbconvert_exporter": "python",
      "file_extension": ".py"
    },
    "kernelspec": {
      "name": "python3",
      "language": "python",
      "display_name": "Python 3"
    },
    "nteract": {
      "version": "0.12.3"
    }
  },
  "nbformat": 4,
  "nbformat_minor": 4
}
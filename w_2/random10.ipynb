{
 "cells": [
  {
   "cell_type": "markdown",
   "metadata": {},
   "source": [
    "### Через скільки ітерацій ф-ція randint(1, 10) повториться"
   ]
  },
  {
   "cell_type": "code",
   "execution_count": 1,
   "metadata": {},
   "outputs": [],
   "source": [
    "from random import randint"
   ]
  },
  {
   "cell_type": "code",
   "execution_count": 3,
   "metadata": {},
   "outputs": [
    {
     "name": "stdout",
     "output_type": "stream",
     "text": [
      "— 5\n",
      "— 7\n",
      "— 9\n",
      "— 2\n",
      "— 1\n",
      "— 4\n",
      "— 3\n",
      "Число ітерацій: 8\n"
     ]
    }
   ],
   "source": [
    "random_set = set()\n",
    "\n",
    "while True:\n",
    "    new_number = randint(1, 10)\n",
    "    if new_number in random_set:\n",
    "        break\n",
    "        \n",
    "    random_set.add(new_number)\n",
    "    print(f'— {new_number}')\n",
    "    \n",
    "print(f'Число ітерацій: {len(random_set) + 1}')"
   ]
  },
  {
   "cell_type": "code",
   "execution_count": null,
   "metadata": {},
   "outputs": [],
   "source": []
  }
 ],
 "metadata": {
  "kernelspec": {
   "display_name": "Python 3",
   "language": "python",
   "name": "python3"
  },
  "language_info": {
   "codemirror_mode": {
    "name": "ipython",
    "version": 3
   },
   "file_extension": ".py",
   "mimetype": "text/x-python",
   "name": "python",
   "nbconvert_exporter": "python",
   "pygments_lexer": "ipython3",
   "version": "3.7.1"
  }
 },
 "nbformat": 4,
 "nbformat_minor": 2
}

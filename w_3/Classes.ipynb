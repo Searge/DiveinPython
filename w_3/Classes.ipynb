{
 "cells": [
  {
   "cell_type": "markdown",
   "metadata": {},
   "source": [
    "# Класи"
   ]
  },
  {
   "cell_type": "code",
   "execution_count": 1,
   "metadata": {},
   "outputs": [],
   "source": [
    "class Human:\n",
    "    pass"
   ]
  },
  {
   "cell_type": "code",
   "execution_count": 2,
   "metadata": {},
   "outputs": [],
   "source": [
    "class Robot:\n",
    "    \"\"\"Доний клас дозволяє створювати роботів\"\"\""
   ]
  },
  {
   "cell_type": "code",
   "execution_count": 3,
   "metadata": {},
   "outputs": [
    {
     "name": "stdout",
     "output_type": "stream",
     "text": [
      "<class '__main__.Robot'>\n"
     ]
    }
   ],
   "source": [
    "print(Robot)"
   ]
  },
  {
   "cell_type": "code",
   "execution_count": 4,
   "metadata": {},
   "outputs": [
    {
     "data": {
      "text/plain": [
       "['__class__',\n",
       " '__delattr__',\n",
       " '__dict__',\n",
       " '__dir__',\n",
       " '__doc__',\n",
       " '__eq__',\n",
       " '__format__',\n",
       " '__ge__',\n",
       " '__getattribute__',\n",
       " '__gt__',\n",
       " '__hash__',\n",
       " '__init__',\n",
       " '__init_subclass__',\n",
       " '__le__',\n",
       " '__lt__',\n",
       " '__module__',\n",
       " '__ne__',\n",
       " '__new__',\n",
       " '__reduce__',\n",
       " '__reduce_ex__',\n",
       " '__repr__',\n",
       " '__setattr__',\n",
       " '__sizeof__',\n",
       " '__str__',\n",
       " '__subclasshook__',\n",
       " '__weakref__']"
      ]
     },
     "execution_count": 4,
     "metadata": {},
     "output_type": "execute_result"
    }
   ],
   "source": [
    "dir(Robot)"
   ]
  },
  {
   "cell_type": "markdown",
   "metadata": {},
   "source": [
    "## Створення екземпляра (об'єкта) класа"
   ]
  },
  {
   "cell_type": "code",
   "execution_count": 5,
   "metadata": {},
   "outputs": [],
   "source": [
    "class Planet:\n",
    "    pass\n",
    "\n",
    "planet = Planet()"
   ]
  },
  {
   "cell_type": "code",
   "execution_count": 7,
   "metadata": {},
   "outputs": [
    {
     "name": "stdout",
     "output_type": "stream",
     "text": [
      "{<__main__.Planet object at 0x10b0d0278>: True, <__main__.Planet object at 0x10b0d0358>: True, <__main__.Planet object at 0x10b0d03c8>: True, <__main__.Planet object at 0x10b0d0438>: True, <__main__.Planet object at 0x10b0d04a8>: True, <__main__.Planet object at 0x10b0d0518>: True, <__main__.Planet object at 0x10b0d05c0>: True, <__main__.Planet object at 0x10b0d9cc0>: True}\n"
     ]
    }
   ],
   "source": [
    "solar_system = {}\n",
    "for i in range(8):\n",
    "    planet = Planet()\n",
    "    solar_system[planet] = True\n",
    "    \n",
    "print(solar_system)"
   ]
  },
  {
   "cell_type": "markdown",
   "metadata": {},
   "source": [
    "## Ініціалізація класу"
   ]
  },
  {
   "cell_type": "code",
   "execution_count": 10,
   "metadata": {},
   "outputs": [],
   "source": [
    "class Planet:\n",
    "    \"\"\"Стоврюємо планети\"\"\"\n",
    "    def __init__(self, name):\n",
    "        self.name = name\n",
    "    \n",
    "    def __str__(self):\n",
    "        return self.name\n"
   ]
  },
  {
   "cell_type": "code",
   "execution_count": 9,
   "metadata": {},
   "outputs": [
    {
     "name": "stdout",
     "output_type": "stream",
     "text": [
      "Earth\n",
      "<__main__.Planet object at 0x10b0b5358>\n"
     ]
    }
   ],
   "source": [
    "earth = Planet('Earth')\n",
    "print(earth.name, earth, sep='\\n')"
   ]
  },
  {
   "cell_type": "code",
   "execution_count": 21,
   "metadata": {},
   "outputs": [
    {
     "name": "stdout",
     "output_type": "stream",
     "text": [
      "Earth\n",
      "Через метод `__str__`: Earth\n"
     ]
    }
   ],
   "source": [
    "class Planet:\n",
    "    \"\"\"Стоврюємо планети\"\"\"\n",
    "    def __init__(self, name):\n",
    "        self.name = name\n",
    "    \n",
    "    def __str__(self):\n",
    "        return self.name\n",
    "    \n",
    "    \n",
    "print(earth.name, \n",
    "      f\"Через метод `__str__`: {earth}\", \n",
    "      sep='\\n')"
   ]
  },
  {
   "cell_type": "code",
   "execution_count": 13,
   "metadata": {},
   "outputs": [
    {
     "name": "stdout",
     "output_type": "stream",
     "text": [
      "Друга спроба, після переоголошення змінної: Earth\n"
     ]
    }
   ],
   "source": [
    "earth = Planet('Earth')\n",
    "print(f\"Друга спроба, після переоголошення змінної: {earth}\")"
   ]
  },
  {
   "cell_type": "code",
   "execution_count": 22,
   "metadata": {},
   "outputs": [
    {
     "name": "stdout",
     "output_type": "stream",
     "text": [
      "[<__main__.Planet object at 0x10b082978>, <__main__.Planet object at 0x10b0829e8>, <__main__.Planet object at 0x10b0829b0>, <__main__.Planet object at 0x10b082b38>, <__main__.Planet object at 0x10b082ac8>, <__main__.Planet object at 0x10b082e48>, <__main__.Planet object at 0x10b082eb8>, <__main__.Planet object at 0x10b082f28>]\n"
     ]
    }
   ],
   "source": [
    "solar_system = []\n",
    "\n",
    "planet_names = [\n",
    "    'Mercury', 'Venus', 'Earth', 'Mars',\n",
    "    'Jupiter', 'Saturn', 'Uranus', 'Neptune'\n",
    "]\n",
    "\n",
    "for name in planet_names:\n",
    "    planet = Planet(name)\n",
    "    solar_system.append(planet)\n",
    "    \n",
    "print(solar_system)"
   ]
  },
  {
   "cell_type": "code",
   "execution_count": 24,
   "metadata": {},
   "outputs": [],
   "source": [
    "# З новим магічним методом __repr__\n",
    "\n",
    "class Planet:\n",
    "    \"\"\"Стоврюємо планети\"\"\"\n",
    "    def __init__(self, name):\n",
    "        self.name = name\n",
    "    \n",
    "    def __repr__(self):\n",
    "        return f\"Planet {self.name}\""
   ]
  },
  {
   "cell_type": "code",
   "execution_count": 25,
   "metadata": {},
   "outputs": [
    {
     "name": "stdout",
     "output_type": "stream",
     "text": [
      "[Planet Mercury, Planet Venus, Planet Earth, Planet Mars, Planet Jupiter, Planet Saturn, Planet Uranus, Planet Neptune]\n"
     ]
    }
   ],
   "source": [
    "solar_system = []\n",
    "\n",
    "planet_names = [\n",
    "    'Mercury', 'Venus', 'Earth', 'Mars',\n",
    "    'Jupiter', 'Saturn', 'Uranus', 'Neptune'\n",
    "]\n",
    "\n",
    "for name in planet_names:\n",
    "    planet = Planet(name)\n",
    "    solar_system.append(planet) # <- class\n",
    "    \n",
    "print(solar_system)"
   ]
  },
  {
   "cell_type": "code",
   "execution_count": 18,
   "metadata": {},
   "outputs": [
    {
     "data": {
      "text/plain": [
       "Planet Mars"
      ]
     },
     "execution_count": 18,
     "metadata": {},
     "output_type": "execute_result"
    }
   ],
   "source": [
    "solar_system[3]"
   ]
  },
  {
   "cell_type": "code",
   "execution_count": 19,
   "metadata": {},
   "outputs": [
    {
     "data": {
      "text/plain": [
       "__main__.Planet"
      ]
     },
     "execution_count": 19,
     "metadata": {},
     "output_type": "execute_result"
    }
   ],
   "source": [
    "type(solar_system[2])"
   ]
  },
  {
   "cell_type": "code",
   "execution_count": 20,
   "metadata": {},
   "outputs": [
    {
     "data": {
      "text/plain": [
       "'Earth'"
      ]
     },
     "execution_count": 20,
     "metadata": {},
     "output_type": "execute_result"
    }
   ],
   "source": [
    "solar_system[2].name"
   ]
  },
  {
   "cell_type": "code",
   "execution_count": 26,
   "metadata": {},
   "outputs": [
    {
     "name": "stdout",
     "output_type": "stream",
     "text": [
      "Planet Mars: Mars\n"
     ]
    }
   ],
   "source": [
    "# Змінюємо атрибут екземпляра:\n",
    "\n",
    "mars = Planet('Mars')\n",
    "print(f\"{mars}: {mars.name}\")'"
   ]
  },
  {
   "cell_type": "code",
   "execution_count": 27,
   "metadata": {},
   "outputs": [
    {
     "data": {
      "text/plain": [
       "'Second Earth?'"
      ]
     },
     "execution_count": 27,
     "metadata": {},
     "output_type": "execute_result"
    }
   ],
   "source": [
    "mars.name = 'Second Earth?\n",
    "mars.name"
   ]
  },
  {
   "cell_type": "markdown",
   "metadata": {},
   "source": [
    "## Атрибути класа"
   ]
  },
  {
   "cell_type": "code",
   "execution_count": 28,
   "metadata": {},
   "outputs": [],
   "source": [
    "class Planet:\n",
    "    \"\"\"Змінна яка відноситься безпосередньо до класу\n",
    "    та зв'язана з кожним конкретним екземпляром.\n",
    "    Вона є *атрибутом класа*.\n",
    "    \"\"\"\n",
    "    count = 0\n",
    "    \n",
    "    def __init__(self, name, population=None):\n",
    "        self.name = name\n",
    "        self.population = population or []\n",
    "        Planet.count += 1\n",
    "\n",
    "\n",
    "earth = Planet('Earth')\n",
    "mars = Planet('Mars')"
   ]
  },
  {
   "cell_type": "code",
   "execution_count": 29,
   "metadata": {},
   "outputs": [
    {
     "data": {
      "text/plain": [
       "2"
      ]
     },
     "execution_count": 29,
     "metadata": {},
     "output_type": "execute_result"
    }
   ],
   "source": [
    "Planet.count"
   ]
  },
  {
   "cell_type": "code",
   "execution_count": 30,
   "metadata": {},
   "outputs": [
    {
     "data": {
      "text/plain": [
       "2"
      ]
     },
     "execution_count": 30,
     "metadata": {},
     "output_type": "execute_result"
    }
   ],
   "source": [
    "earth.count"
   ]
  },
  {
   "cell_type": "markdown",
   "metadata": {},
   "source": [
    "> звертати увагу до чого ти звертаєшся.\n",
    "До атрибута конкретного екземпляру, чи до класа\n",
    "\n",
    "## Деструктор екземпляра класа"
   ]
  },
  {
   "cell_type": "code",
   "execution_count": 42,
   "metadata": {},
   "outputs": [],
   "source": [
    "class Human:\n",
    "        \n",
    "    def __del__(self):\n",
    "        print(f'Goodbye!') "
   ]
  },
  {
   "cell_type": "code",
   "execution_count": 43,
   "metadata": {},
   "outputs": [
    {
     "name": "stdout",
     "output_type": "stream",
     "text": [
      "Goodbye!\n"
     ]
    }
   ],
   "source": [
    "me = Human()"
   ]
  },
  {
   "cell_type": "code",
   "execution_count": 44,
   "metadata": {},
   "outputs": [
    {
     "name": "stdout",
     "output_type": "stream",
     "text": [
      "Goodbye!\n"
     ]
    }
   ],
   "source": [
    "# краща практика — явний виклик ф-ції (метода) del\n",
    "\n",
    "del me"
   ]
  },
  {
   "cell_type": "markdown",
   "metadata": {},
   "source": [
    "## Словник екземпляра та класа"
   ]
  },
  {
   "cell_type": "code",
   "execution_count": 45,
   "metadata": {},
   "outputs": [],
   "source": [
    "class Planet:\n",
    "    \"\"\"Описуємо планети\"\"\"\n",
    "    \n",
    "    count = 1\n",
    "    \n",
    "    def __init__(self, name, population=None):\n",
    "        self.name = name\n",
    "        self.population = population or []\n",
    "\n",
    "planet = Planet(\"Earth\")"
   ]
  },
  {
   "cell_type": "code",
   "execution_count": 46,
   "metadata": {},
   "outputs": [
    {
     "data": {
      "text/plain": [
       "{'name': 'Earth', 'population': []}"
      ]
     },
     "execution_count": 46,
     "metadata": {},
     "output_type": "execute_result"
    }
   ],
   "source": [
    "planet.__dict__"
   ]
  },
  {
   "cell_type": "code",
   "execution_count": 47,
   "metadata": {},
   "outputs": [
    {
     "data": {
      "text/plain": [
       "{'name': 'Earth', 'population': [], 'mass': 5.97e+24}"
      ]
     },
     "execution_count": 47,
     "metadata": {},
     "output_type": "execute_result"
    }
   ],
   "source": [
    "# Додаємо атрибут в екземпляр нашого класу\n",
    "\n",
    "planet.mass = 5.97e24\n",
    "planet.__dict__"
   ]
  },
  {
   "cell_type": "code",
   "execution_count": 48,
   "metadata": {},
   "outputs": [
    {
     "data": {
      "text/plain": [
       "mappingproxy({'__module__': '__main__',\n",
       "              '__doc__': 'Описуємо планети',\n",
       "              'count': 1,\n",
       "              '__init__': <function __main__.Planet.__init__(self, name, population=None)>,\n",
       "              '__dict__': <attribute '__dict__' of 'Planet' objects>,\n",
       "              '__weakref__': <attribute '__weakref__' of 'Planet' objects>})"
      ]
     },
     "execution_count": 48,
     "metadata": {},
     "output_type": "execute_result"
    }
   ],
   "source": [
    "Planet.__dict__"
   ]
  },
  {
   "cell_type": "code",
   "execution_count": 49,
   "metadata": {},
   "outputs": [
    {
     "data": {
      "text/plain": [
       "'Описуємо планети'"
      ]
     },
     "execution_count": 49,
     "metadata": {},
     "output_type": "execute_result"
    }
   ],
   "source": [
    "Planet.__doc__"
   ]
  },
  {
   "cell_type": "code",
   "execution_count": 50,
   "metadata": {},
   "outputs": [
    {
     "data": {
      "text/plain": [
       "['__class__',\n",
       " '__delattr__',\n",
       " '__dict__',\n",
       " '__dir__',\n",
       " '__doc__',\n",
       " '__eq__',\n",
       " '__format__',\n",
       " '__ge__',\n",
       " '__getattribute__',\n",
       " '__gt__',\n",
       " '__hash__',\n",
       " '__init__',\n",
       " '__init_subclass__',\n",
       " '__le__',\n",
       " '__lt__',\n",
       " '__module__',\n",
       " '__ne__',\n",
       " '__new__',\n",
       " '__reduce__',\n",
       " '__reduce_ex__',\n",
       " '__repr__',\n",
       " '__setattr__',\n",
       " '__sizeof__',\n",
       " '__str__',\n",
       " '__subclasshook__',\n",
       " '__weakref__',\n",
       " 'count',\n",
       " 'mass',\n",
       " 'name',\n",
       " 'population']"
      ]
     },
     "execution_count": 50,
     "metadata": {},
     "output_type": "execute_result"
    }
   ],
   "source": [
    "dir(planet)"
   ]
  },
  {
   "cell_type": "code",
   "execution_count": 51,
   "metadata": {},
   "outputs": [
    {
     "data": {
      "text/plain": [
       "__main__.Planet"
      ]
     },
     "execution_count": 51,
     "metadata": {},
     "output_type": "execute_result"
    }
   ],
   "source": [
    "planet.__class__"
   ]
  },
  {
   "cell_type": "markdown",
   "metadata": {},
   "source": [
    "## Конструктор екземпляра класа"
   ]
  },
  {
   "cell_type": "code",
   "execution_count": 52,
   "metadata": {},
   "outputs": [],
   "source": [
    "class Planet:\n",
    "    \"\"\"Описуємо планети\"\"\"\n",
    "    def __new__(cls, *args, **kwargs):\n",
    "        print(\"__new__ called\")\n",
    "        # Створюємо новий екземпляр класу,\n",
    "        # який ще не ініціалізований\n",
    "        obj = super().__new__(cls)\n",
    "        return obj\n",
    "    \n",
    "    def __init__(self, name):\n",
    "        print(\"__init__ called\")\n",
    "        self.name = name\n",
    "\n"
   ]
  },
  {
   "cell_type": "code",
   "execution_count": 53,
   "metadata": {},
   "outputs": [
    {
     "name": "stdout",
     "output_type": "stream",
     "text": [
      "__new__ called\n",
      "__init__ called\n"
     ]
    }
   ],
   "source": [
    "earth = Planet(\"Earth\")"
   ]
  },
  {
   "cell_type": "markdown",
   "metadata": {},
   "source": [
    "Топбто, при виклику `Planet(\"Earth\")` виконується ≈но наступне:\n",
    "\n",
    "```python\n",
    "earth = Planet.__new__(Planet, \"Earth\")\n",
    "\n",
    "if isinstance(planet, Planet):\n",
    "    Planet.__init__(planet, \"Earth\")\n",
    "```"
   ]
  },
  {
   "cell_type": "code",
   "execution_count": null,
   "metadata": {},
   "outputs": [],
   "source": []
  }
 ],
 "metadata": {
  "kernelspec": {
   "display_name": "Python 3",
   "language": "python",
   "name": "python3"
  },
  "language_info": {
   "codemirror_mode": {
    "name": "ipython",
    "version": 3
   },
   "file_extension": ".py",
   "mimetype": "text/x-python",
   "name": "python",
   "nbconvert_exporter": "python",
   "pygments_lexer": "ipython3",
   "version": "3.7.3"
  }
 },
 "nbformat": 4,
 "nbformat_minor": 2
}

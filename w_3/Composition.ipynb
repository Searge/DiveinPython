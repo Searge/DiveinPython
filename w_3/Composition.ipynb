{
 "cells": [
  {
   "cell_type": "markdown",
   "metadata": {},
   "source": [
    "# Композиція класів чи наслідування"
   ]
  },
  {
   "cell_type": "code",
   "execution_count": 1,
   "metadata": {},
   "outputs": [],
   "source": [
    "# INHERITANCE\n",
    "\n",
    "class Pet:\n",
    "    pass\n",
    "\n",
    "class Dog(Pet):\n",
    "    pass\n",
    "\n",
    "class ExportJSON(Pet):\n",
    "    def to_json(self):\n",
    "        pass\n",
    "\n",
    "class ExportXML(Pet):\n",
    "    def to_xml(self):\n",
    "        pass\n",
    "    \n",
    "class ExDog(Dog, ExportJSON, ExportXML):\n",
    "    pass"
   ]
  },
  {
   "cell_type": "markdown",
   "metadata": {},
   "source": [
    "#### Занадто багато параметрів в `ExDog` \n",
    "При збільшені числа класів…"
   ]
  },
  {
   "cell_type": "code",
   "execution_count": 14,
   "metadata": {},
   "outputs": [],
   "source": [
    "import json\n",
    "# COMPOSITION\n",
    "\n",
    "class PetExport:\n",
    "    def export(self):\n",
    "        raise NotImplementedError\n",
    "\n",
    "\n",
    "class ExportJSON(PetExport):\n",
    "    def export(self, dog):\n",
    "        return json.dumps({\n",
    "            \"name\": dog.name,\n",
    "            \"breed\": dog.breed\n",
    "        })\n",
    "\n",
    "\n",
    "class ExportXML(PetExport):\n",
    "    def export(self, dog):\n",
    "        return \"\"\"<?xml version\"1.0\" encoding=\"utf-8\"?>\n",
    "    <dog>\n",
    "        <name>{0}</name>\n",
    "        <breed>{1}</breed>\n",
    "    </dog>\n",
    "        \"\"\".format(dog.name, dog.breed)\n",
    "    \n",
    "    \n",
    "class Pet:\n",
    "    def __init__(self, name):\n",
    "        self.name = name\n",
    "\n",
    "\n",
    "class Dog(Pet):\n",
    "    def __init__(self, name, breed=None):\n",
    "        super().__init__(name)\n",
    "        self.breed = breed\n",
    "        \n",
    "class ExDog(Dog):\n",
    "    def __init__(self, name, breed=None, exporter=None):\n",
    "        super().__init__(name, breed=None)\n",
    "        self._exporter = exporter or ExportJSON()\n",
    "        if not isinstance(self._exporter, PetExport):\n",
    "            raise ValueError('bad exporter', exporter)\n",
    "    \n",
    "    def export(self):\n",
    "        return self._exporter.export(self)\n"
   ]
  },
  {
   "cell_type": "code",
   "execution_count": 11,
   "metadata": {},
   "outputs": [
    {
     "name": "stdout",
     "output_type": "stream",
     "text": [
      "<?xml version\"1.0\" encoding=\"utf-8\"?>\n",
      "    <dog>\n",
      "        <name>Sharik</name>\n",
      "        <breed>None</breed>\n",
      "    </dog>\n",
      "        \n"
     ]
    }
   ],
   "source": [
    "dog = ExDog('Sharik', 'Дворняга', exporter=ExportXML())\n",
    "print(dog.export())"
   ]
  },
  {
   "cell_type": "code",
   "execution_count": 15,
   "metadata": {},
   "outputs": [
    {
     "name": "stdout",
     "output_type": "stream",
     "text": [
      "{\"name\": \"Tusik\", \"breed\": null}\n"
     ]
    }
   ],
   "source": [
    "dog = ExDog('Tusik', 'Мопс')\n",
    "print(dog.export())"
   ]
  },
  {
   "cell_type": "code",
   "execution_count": null,
   "metadata": {},
   "outputs": [],
   "source": []
  },
  {
   "cell_type": "code",
   "execution_count": null,
   "metadata": {},
   "outputs": [],
   "source": []
  }
 ],
 "metadata": {
  "kernelspec": {
   "display_name": "Python 3",
   "language": "python",
   "name": "python3"
  },
  "language_info": {
   "codemirror_mode": {
    "name": "ipython",
    "version": 3
   },
   "file_extension": ".py",
   "mimetype": "text/x-python",
   "name": "python",
   "nbconvert_exporter": "python",
   "pygments_lexer": "ipython3",
   "version": "3.7.3"
  }
 },
 "nbformat": 4,
 "nbformat_minor": 2
}

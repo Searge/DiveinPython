{
 "cells": [
  {
   "cell_type": "markdown",
   "metadata": {},
   "source": [
    "# Наследование в Python"
   ]
  },
  {
   "cell_type": "code",
   "execution_count": 1,
   "metadata": {},
   "outputs": [],
   "source": [
    "class Pet:\n",
    "    def __init__(self, name=None):\n",
    "        self.name = name"
   ]
  },
  {
   "cell_type": "code",
   "execution_count": 2,
   "metadata": {},
   "outputs": [],
   "source": [
    "# Наслідування:\n",
    "class Dog(Pet):\n",
    "    def __init__(self, name, breed=None):\n",
    "        super().__init__(name)\n",
    "        # ↑ викликає ко з батьківського класу\n",
    "        self.breed = breed\n",
    "        \n",
    "    def say(self):\n",
    "        return \"{0}: waw\".format(self.name)\n",
    "\n",
    "\n",
    "dog = Dog('Шарік', 'Доберман')"
   ]
  },
  {
   "cell_type": "code",
   "execution_count": 3,
   "metadata": {},
   "outputs": [
    {
     "data": {
      "text/plain": [
       "'Шарік'"
      ]
     },
     "execution_count": 3,
     "metadata": {},
     "output_type": "execute_result"
    }
   ],
   "source": [
    "dog.name"
   ]
  },
  {
   "cell_type": "code",
   "execution_count": 4,
   "metadata": {},
   "outputs": [
    {
     "data": {
      "text/plain": [
       "<bound method Dog.say of <__main__.Dog object at 0x10516f438>>"
      ]
     },
     "execution_count": 4,
     "metadata": {},
     "output_type": "execute_result"
    }
   ],
   "source": [
    "dog.say"
   ]
  },
  {
   "cell_type": "code",
   "execution_count": 5,
   "metadata": {},
   "outputs": [
    {
     "data": {
      "text/plain": [
       "'Шарік: waw'"
      ]
     },
     "execution_count": 5,
     "metadata": {},
     "output_type": "execute_result"
    }
   ],
   "source": [
    "dog.say()"
   ]
  },
  {
   "cell_type": "code",
   "execution_count": 6,
   "metadata": {},
   "outputs": [],
   "source": [
    "import json\n",
    "\n",
    "class ExportJSON:\n",
    "    def to_json(self):\n",
    "        return json.dumps({\n",
    "            'name': self.name,\n",
    "            'breed': self.breed\n",
    "        })\n",
    "    \n",
    "class ExDog(Dog, ExportJSON):\n",
    "    pass\n",
    "\n",
    "dog = ExDog('Belka', breed='Дворняжка')"
   ]
  },
  {
   "cell_type": "code",
   "execution_count": 7,
   "metadata": {},
   "outputs": [
    {
     "data": {
      "text/plain": [
       "'{\"name\": \"Belka\", \"breed\": \"\\\\u0414\\\\u0432\\\\u043e\\\\u0440\\\\u043d\\\\u044f\\\\u0436\\\\u043a\\\\u0430\"}'"
      ]
     },
     "execution_count": 7,
     "metadata": {},
     "output_type": "execute_result"
    }
   ],
   "source": [
    "dog.to_json()"
   ]
  },
  {
   "cell_type": "markdown",
   "metadata": {},
   "source": [
    "### Любий клас є нащадком object"
   ]
  },
  {
   "cell_type": "code",
   "execution_count": 10,
   "metadata": {},
   "outputs": [
    {
     "name": "stdout",
     "output_type": "stream",
     "text": [
      "int: \t\tTrue\n",
      "Dog: \t\tTrue\n",
      "Dog(Pet): \tTrue\n",
      "Dog <- int: \tFalse\n",
      "    \n"
     ]
    }
   ],
   "source": [
    "print(\"\"\"int: \\t\\t{}\n",
    "Dog: \\t\\t{}\n",
    "Dog(Pet): \\t{}\n",
    "Dog <- int: \\t{}\n",
    "    \"\"\".format(issubclass(int, object),\n",
    "              issubclass(Dog, object),\n",
    "              issubclass(Dog, Pet),\n",
    "              issubclass(Dog, int)))"
   ]
  },
  {
   "cell_type": "markdown",
   "metadata": {},
   "source": [
    "### Пошук атрибутів та методів об'єкта\n",
    "#### Лінеаризація класа\n",
    "```mermaid\n",
    "graph TD;\n",
    "    Object-->Pet;\n",
    "    Object-->C(ExportJSON);\n",
    "    Pet-->Dog;\n",
    "    Dog-->ExDog;\n",
    "    C(ExportJSON)-->ExDog;\n",
    "```\n",
    "![mermaid diagram](https://raw.githubusercontent.com/Searge/DiveinPython/master/img/mermaid-diagram-20190406125136.svg)"
   ]
  },
  {
   "cell_type": "code",
   "execution_count": 21,
   "metadata": {},
   "outputs": [
    {
     "name": "stdout",
     "output_type": "stream",
     "text": [
      "(<class '__main__.ExDog'>,\n",
      " <class '__main__.Dog'>,\n",
      " <class '__main__.Pet'>,\n",
      " <class '__main__.ExportJSON'>,\n",
      " <class 'object'>)\n"
     ]
    }
   ],
   "source": [
    "from pprint import pprint\n",
    "\n",
    "# Method Resolution Order\n",
    "pprint(ExDog.__mro__)"
   ]
  },
  {
   "cell_type": "markdown",
   "metadata": {},
   "source": [
    "### Використання `super()`"
   ]
  },
  {
   "cell_type": "code",
   "execution_count": 22,
   "metadata": {},
   "outputs": [
    {
     "name": "stdout",
     "output_type": "stream",
     "text": [
      "Шерстяна собака породи Такса\n"
     ]
    }
   ],
   "source": [
    "class ExDog(Dog, ExportJSON):\n",
    "    def __init_(self, name, breed=None):\n",
    "        # виклик метода по MRO\n",
    "        super().__init__(name, breed)\n",
    "        # super(ExDog, self).__init__(name)\n",
    "        \n",
    "        \n",
    "class WoolenDog(Dog, ExportJSON):\n",
    "    def __init__(self, name, breed=None):\n",
    "        # явне вказання метода конкретного класу\n",
    "        super(Dog, self).__init__(name)\n",
    "        self.breed = 'Шерстяна собака породи {0}'.format(breed)\n",
    "        \n",
    "dog = WoolenDog('Zhucka', breed='Такса')\n",
    "print(dog.breed)"
   ]
  },
  {
   "cell_type": "markdown",
   "metadata": {},
   "source": [
    "### Вирішення конфліктів імен, name mangling"
   ]
  },
  {
   "cell_type": "code",
   "execution_count": 23,
   "metadata": {},
   "outputs": [],
   "source": [
    "class Dog(Pet):\n",
    "    def __init__(self, name, breed=None):\n",
    "        super().__init__(name)\n",
    "        self.__breed = breed\n",
    "        \n",
    "    def say(self):\n",
    "        return \"{0}: waw\".format(self.name)\n",
    "    \n",
    "    def get_breed(self):\n",
    "        return self.__breed\n",
    "    \n",
    "class ExDog(Dog, ExportJSON):\n",
    "    def get_breed(self):\n",
    "        return 'Порода: {} — {}'.format(self.name,\n",
    "                                       self.__breed)"
   ]
  },
  {
   "cell_type": "code",
   "execution_count": 24,
   "metadata": {},
   "outputs": [
    {
     "data": {
      "text/plain": [
       "{'name': 'Fox', '_Dog__breed': 'Mops'}"
      ]
     },
     "execution_count": 24,
     "metadata": {},
     "output_type": "execute_result"
    }
   ],
   "source": [
    "dog = ExDog('Fox', 'Mops')\n",
    "dog.__dict__"
   ]
  },
  {
   "cell_type": "code",
   "execution_count": 25,
   "metadata": {},
   "outputs": [
    {
     "ename": "AttributeError",
     "evalue": "'ExDog' object has no attribute '_ExDog__breed'",
     "output_type": "error",
     "traceback": [
      "\u001b[0;31m--------------------------------------------------------------------------\u001b[0m",
      "\u001b[0;31mAttributeError\u001b[0m                           Traceback (most recent call last)",
      "\u001b[0;32m<ipython-input-25-c2424d891e87>\u001b[0m in \u001b[0;36m<module>\u001b[0;34m\u001b[0m\n\u001b[0;32m----> 1\u001b[0;31m \u001b[0mdog\u001b[0m\u001b[0;34m.\u001b[0m\u001b[0mget_breed\u001b[0m\u001b[0;34m(\u001b[0m\u001b[0;34m)\u001b[0m\u001b[0;34m\u001b[0m\u001b[0;34m\u001b[0m\u001b[0m\n\u001b[0m",
      "\u001b[0;32m<ipython-input-23-3afa7c0440a0>\u001b[0m in \u001b[0;36mget_breed\u001b[0;34m(self)\u001b[0m\n\u001b[1;32m     13\u001b[0m     \u001b[0;32mdef\u001b[0m \u001b[0mget_breed\u001b[0m\u001b[0;34m(\u001b[0m\u001b[0mself\u001b[0m\u001b[0;34m)\u001b[0m\u001b[0;34m:\u001b[0m\u001b[0;34m\u001b[0m\u001b[0;34m\u001b[0m\u001b[0m\n\u001b[1;32m     14\u001b[0m         return 'Порода: {} — {}'.format(self.name,\n\u001b[0;32m---> 15\u001b[0;31m                                        self.__breed)\n\u001b[0m",
      "\u001b[0;31mAttributeError\u001b[0m: 'ExDog' object has no attribute '_ExDog__breed'"
     ]
    }
   ],
   "source": [
    "dog.get_breed()"
   ]
  },
  {
   "cell_type": "code",
   "execution_count": 26,
   "metadata": {},
   "outputs": [
    {
     "data": {
      "text/plain": [
       "'Порода: Fox — Mops'"
      ]
     },
     "execution_count": 26,
     "metadata": {},
     "output_type": "execute_result"
    }
   ],
   "source": [
    "class ExDog(Dog, ExportJSON):\n",
    "    def get_breed(self):\n",
    "        return 'Порода: {} — {}'.format(self.name,\n",
    "                                       self._Dog__breed)\n",
    "    \n",
    "dog = ExDog('Fox', 'Mops')\n",
    "dog.get_breed()"
   ]
  },
  {
   "cell_type": "code",
   "execution_count": null,
   "metadata": {},
   "outputs": [],
   "source": []
  }
 ],
 "metadata": {
  "kernelspec": {
   "display_name": "Python 3",
   "language": "python",
   "name": "python3"
  },
  "language_info": {
   "codemirror_mode": {
    "name": "ipython",
    "version": 3
   },
   "file_extension": ".py",
   "mimetype": "text/x-python",
   "name": "python",
   "nbconvert_exporter": "python",
   "pygments_lexer": "ipython3",
   "version": "3.7.3"
  }
 },
 "nbformat": 4,
 "nbformat_minor": 2
}
